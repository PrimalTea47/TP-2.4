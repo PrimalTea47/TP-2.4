{
 "cells": [
  {
   "cell_type": "markdown",
   "id": "1443e017",
   "metadata": {},
   "source": [
    "---"
   ]
  },
  {
   "cell_type": "markdown",
   "id": "d15d6e61",
   "metadata": {},
   "source": [
    "<img src=\"https://github.com/Lionel-Helin-Oza/Images_Notebook/blob/main/NSI-Image.png?raw=true\" alt=\"drawing\" width=\"350\">"
   ]
  },
  {
   "cell_type": "markdown",
   "id": "aff477f4",
   "metadata": {},
   "source": [
    "# TP2.4 - Les Graphes - Implémentation des graphes\n",
    "\n",
    "Durée de l'activité proposé : 4h"
   ]
  },
  {
   "cell_type": "markdown",
   "id": "d3651f9a",
   "metadata": {},
   "source": [
    "<img src=\"https://github.com/Lionel-Helin-Oza/TP2.4-Les_Graphes/blob/main/graphe_garde.png?raw=true\" width=\"350\">"
   ]
  },
  {
   "cell_type": "markdown",
   "id": "5032505f",
   "metadata": {},
   "source": [
    "---"
   ]
  },
  {
   "cell_type": "markdown",
   "id": "746a3eef",
   "metadata": {},
   "source": [
    "\n",
    "## <span style='color:Red'> Partie 1 : Rappels de Cours\n"
   ]
  },
  {
   "cell_type": "markdown",
   "id": "9f2c3b8b",
   "metadata": {},
   "source": [
    "---"
   ]
  },
  {
   "cell_type": "markdown",
   "id": "57a1ad2c",
   "metadata": {},
   "source": [
    "## <span style='color:Blue'> *1.\tQu'est-ce qu'un Graphe en Informatique?*   \n",
    "\n",
    "\n",
    "Un **graphe** est une structure de données pouvant représenter des situations très diverses : réseaux d'autoroutes, planning de succession de tâches, machine à états, etc.\n",
    "\n",
    "Elle s’enrichit quand on attribue aux sommets/nœuds ou aux arcs/arêtes une valeur , c'est-à-dire un nombre représentant une information en relation avec l' utilisation du graphe, Comme une longueur, une capacité de transport, un débit, etc.\n",
    "\n",
    "Dans ce TP, et pour essayer d’étudier les graphes nous allons répondre aux problématiques suivantes.\n",
    "1.  Comment représenter un graphe ?\n",
    "2.  Comment parcourir un graphe? Les algorithmes de parcours\n",
    "3.  Calcul du chemin le plus court ....\n",
    "\n",
    "\n",
    "\n"
   ]
  },
  {
   "cell_type": "markdown",
   "id": "1a0e8bd3",
   "metadata": {},
   "source": [
    "## <span style='color:Blue'> *2.\tComment représenter un Graphe?*   \n",
    "    \n",
    "On distingue les:\n",
    "    \n",
    "*   **Les graphes orientés**  : les sommets sont reliés par des arcs ou des flèches.\n",
    "    \n",
    "*   **Les graphes non orientés**  : les sommets sont reliés par des arêtes. Cette distinction n'est pas fondamentale.\n",
    "    \n",
    "Tout algorithme applicable à un graphes non-orienté peut aussi être appliqué à un graphe orienté (des sommets reliés par des arcs ou des flèches ).\n",
    "    \n",
    "Tout graphe non orienté est  équivalent à un  graphe orienté  (il suffit de remplacer chaque arête par deux arc).\n",
    "\n",
    "    \n",
    "***Remarque :*** certaines définitions varient suivant les ressources. En général, ces variations sont minimes.\n"
   ]
  },
  {
   "cell_type": "markdown",
   "id": "48098c62",
   "metadata": {},
   "source": [
    "## <span style='color:Blue'> *3.\tMathématiquement*   "
   ]
  },
  {
   "cell_type": "markdown",
   "id": "7b3138e9",
   "metadata": {},
   "source": [
    "\n",
    "Formellement, un graphe est un couple G=(S,A) où S est l' ensemble des sommets et A ⊂ SxS est l' ensemble des arcs ou des arêtes .\n",
    "\n",
    "Dans le cas d’un graphe orienté , chaque couple (x,y) ∈ A  représente un  arc .\n",
    "\n",
    "La première composante x du couple est la source  (ou l' origine ) de l' arc .\n",
    "\n",
    "La seconde composante y en est le but  (ou la destination ).\n",
    "\n",
    "Dans le cas d'un graphe non orienté , chaque couple (x,y) ∈ A  représente une  arête d'extrémités x et y . Dans ce cas, les couples  (x,y)   et  (y,x) désignent la même arête .\n",
    "\n",
    "Ci-dessous un exemple de graphe (Image1) :"
   ]
  },
  {
   "cell_type": "markdown",
   "id": "55365443",
   "metadata": {},
   "source": [
    "<img src=\"https://github.com/Lionel-Helin-Oza/TP2.4-Les_Graphes/blob/main/graphe_oriente.png?raw=true\" width=\"450\">"
   ]
  },
  {
   "cell_type": "markdown",
   "id": "b6753a06",
   "metadata": {},
   "source": [
    "## <span style='color:Blue'> *4. Représentations d'un Graphe* "
   ]
  },
  {
   "cell_type": "markdown",
   "id": "4a06f932",
   "metadata": {},
   "source": [
    "> **1.\t    La représentation Sagittale  :**\n",
    "\n",
    "Elle s'obtient en dessinant le graphe (voir figure ci-dessus)\n",
    "\n",
    "> **2.\t  La représentation par matrice d'adjacences (voir 4.1)  :**\n",
    "\n",
    "Deux sommets x et y sont dits adjacents s'il existe un arc de x vers y ou de y vers x . Ou s'il existe une arête entre x et y dans le cas de graphe non-orienté.\n",
    "\n",
    "Cette représentation du graphe est faite en utilisant un tableau de tableaux. \n",
    "\n",
    "> **3.\t  La représentation par liste d'adjacences (voir 4.2) :**\n",
    "\n",
    "Nous utiliserons dans ce cas un dictionnaire, dont les clefs sont les nœuds du graphe, et les valeurs les nœuds adjacents de chaque nœud.  \n"
   ]
  },
  {
   "cell_type": "markdown",
   "id": "2a119661",
   "metadata": {},
   "source": [
    "### <span style='color:Blue'> *4.1 - La matrice d'adjacence*"
   ]
  },
  {
   "cell_type": "markdown",
   "id": "60bdc8b4",
   "metadata": {},
   "source": [
    "La matrice d'adjacence est une matrice B de taille n * n  indicée par les sommets.\n",
    "\n",
    "- Par convention B[j,k] vaut 1 si l'arc (x[j],x[k]) ∈ A et 0 sinon.\n",
    "\n",
    "- Si le graphe est valué on met des poids plutôt que des 1.\n",
    "\n",
    "- Dans le cas des graphes non orientés, la matrice est symétrique.\n",
    "\n",
    "Voici la matrice d'adjacence du graphe G de l'exemple précédent: \n"
   ]
  },
  {
   "cell_type": "markdown",
   "id": "cbcab794",
   "metadata": {},
   "source": [
    "<img src=\"https://github.com/Lionel-Helin-Oza/TP2.4-Les_Graphes/blob/main/mat_adj.png?raw=true\" width=\"450\">"
   ]
  },
  {
   "cell_type": "markdown",
   "id": "33998621",
   "metadata": {},
   "source": [
    "### Représentation de la matrice d'adjacence:\n",
    "\n",
    "Voici en Python comment déclarer une matrice , c'est -à-dire un tableau à 2 dimensions  (Tableau de tableaux). En python, on pourra écrire :"
   ]
  },
  {
   "cell_type": "code",
   "execution_count": 1,
   "id": "74f5c6de",
   "metadata": {},
   "outputs": [],
   "source": [
    "G = [\n",
    "     [ 0, 1, 0, 0, 0, 0 ],\n",
    "     [ 0, 1, 1, 1, 0, 0 ],\n",
    "     [ 1, 0, 0, 0, 0, 0 ],\n",
    "     [ 0, 0, 0, 0, 0, 0 ],\n",
    "     [ 0, 0, 0, 0, 0, 0 ],\n",
    "     [ 0, 0, 0, 0, 1, 0 ]\n",
    "   ]\n"
   ]
  },
  {
   "cell_type": "markdown",
   "id": "19e00393",
   "metadata": {},
   "source": [
    "### <span style='color:Blue'> *4.2 - Représentation d'un graphe par un dictionnaire*"
   ]
  },
  {
   "cell_type": "markdown",
   "id": "047bfcba",
   "metadata": {},
   "source": [
    "**a. Représentation des graphes et rappels sur les dictionnaires**"
   ]
  },
  {
   "cell_type": "markdown",
   "id": "cc840fa7",
   "metadata": {},
   "source": [
    "Il est possible de représenter les graphes par des dictionnaires. Cette implémentation peut être exploitée pour un graphe orienté ainsi qu'un graphe non orienté .\n",
    "Reprenons notre graphe G – il est important de préciser que ce graphe est orienté ! . \n",
    "\n",
    "Il est possible de le représenter ainsi:\n"
   ]
  },
  {
   "cell_type": "code",
   "execution_count": 2,
   "id": "0df0f301",
   "metadata": {},
   "outputs": [],
   "source": [
    "G = {\n",
    "     \"A\" : [\"B\"],\n",
    "     \"B\" : [\"B\", \"D\", \"C\"],\n",
    "     \"C\" : [\"A\"],\n",
    "     \"D\" : [],\n",
    "     \"E\" : [],\n",
    "     \"F\" : [\"E\"]\n",
    "      }"
   ]
  },
  {
   "cell_type": "markdown",
   "id": "6022eeb8",
   "metadata": {},
   "source": [
    "\n",
    "> Les clés du dictionnaire ci-dessus sont les sommets de G . Les valeurs correspondantes sont des tableaux avec les sommets , qui se connectent par une arête .\n",
    "\n",
    "> Une arête peut être vue comme un couple de sommets comme  (\"A\",\"B\") .\n",
    "\n",
    "Ci-dessous un rappel des fonctions exploitables avec les dictionnaires et leurs exécutions sur le graphe G :\n",
    "Il faut bien sûr au préalable avoir déjà déclaré le dictionnaire G donc exécuté la première instruction ci-dessus.\n"
   ]
  },
  {
   "cell_type": "code",
   "execution_count": 3,
   "id": "14295c91",
   "metadata": {},
   "outputs": [
    {
     "name": "stdout",
     "output_type": "stream",
     "text": [
      "dict_keys(['A', 'B', 'C', 'D', 'E', 'F'])\n",
      "dict_values([['B'], ['B', 'D', 'C'], ['A'], [], [], ['E']])\n",
      "6\n",
      "['B', 'D', 'C']\n"
     ]
    }
   ],
   "source": [
    "print(G.keys())         # affiche les cles\n",
    "print(G.values())       # affiche les valeurs\n",
    "print(len(G))           # affiche le nombre de clés\n",
    "print(G['B'])           # affiche la valeur de la clés\n"
   ]
  },
  {
   "cell_type": "markdown",
   "id": "2046ad09",
   "metadata": {},
   "source": [
    "**Pour revoir des notions sur les dictionnaires, tuple()  vous pouvez visiter le  lien  suivant: https://openclassrooms.com/fr/courses/235344-apprenez-a-programmer-en-python/232273-utilisez-des-dictionnaires**"
   ]
  },
  {
   "cell_type": "markdown",
   "id": "cfe70aec",
   "metadata": {},
   "source": [
    "**b. Implémentation d'une classe Graphe en utilisant les dictionnaires**"
   ]
  },
  {
   "cell_type": "markdown",
   "id": "0cd09ee9",
   "metadata": {},
   "source": [
    "Hé oui, il peut être intéressant de définir un objet « graphe », tout en utilisant les dictionnaires dans la  construction du graphe. \n",
    "Pour commencer, il faut créer le constructeur de la classe Graphe qui prend en paramètre soit un dictionnaire rempli soit un dictionnaire vide . Ce constructeur permettra de créer un objet Graphe.\n"
   ]
  },
  {
   "cell_type": "code",
   "execution_count": 5,
   "id": "611b61fe",
   "metadata": {},
   "outputs": [],
   "source": [
    "class Graphe:\n",
    "  def __init__(self, graph_dict = None):\n",
    "    \"\"\" Initialise un objet Graph\n",
    "        Si aucun graphe n'est donné en attribut, un dictionnaire vide est alors introduit\n",
    "    \"\"\"\n",
    "    if graph_dict == None: \n",
    "        graph_dict = {}\n",
    "    self.__graph_dict = graph_dict"
   ]
  },
  {
   "cell_type": "markdown",
   "id": "61c8d096",
   "metadata": {},
   "source": [
    "Nous ajouterons également 2 méthodes permettant d'accéder aux sommets et aux arêtes ( ci-après la classe complétée)"
   ]
  },
  {
   "cell_type": "code",
   "execution_count": 7,
   "id": "b5d97b27",
   "metadata": {},
   "outputs": [],
   "source": [
    "class Graphe:\n",
    "  def __init__(self, graph_dict = None):\n",
    "    \"\"\" Initialise un objet Graph\n",
    "        Si aucun graphe n'est donné en attribut, un dictionnaire vide est alors introduit\n",
    "    \"\"\"\n",
    "    if graph_dict == None: graph_dict = {}\n",
    "    self.__graph_dict = graph_dict\n",
    "\n",
    "  def sommets(self):\n",
    "    #retourne les sommets du graphe\n",
    "    return list(self.__graph_dict.keys())\n",
    "\n",
    "  def aretes(self):\n",
    "    # retourne les aretes du graphe\n",
    "    return self.__generate_aretes()\n",
    "\n",
    "  def __generate_aretes(self):\n",
    "        ## Une méthode statique générant les arêtes du graphe\n",
    "        ##  Les arêtes sont représentées comme des ensembles\n",
    "        ## avec un (une boucle vers le sommet) ou deux sommets\n",
    "    aretes = []\n",
    "    for sommet in self.__graph_dict:\n",
    "        for voisin in self.__graph_dict[sommet]:\n",
    "            if (sommet, voisin) not in aretes:\n",
    "                aretes.append((sommet, voisin))\n",
    "    return aretes"
   ]
  },
  {
   "cell_type": "markdown",
   "id": "5906a46b",
   "metadata": {},
   "source": [
    "Pour avoir les arêtes du graphe, le getteur aretes() fait appel à la méthode  __generate_aretes() . \n",
    "\n",
    "C'est une \"façon de faire\" assez répandue en Programmation Orientée Objet . Nous nous efforçons de garder un getteur le plus simple possible pour faciliter la lisibilité du programme : si plusieurs lignes de code de \"traitement\" , nous les déplaçons dans une sous-fonction  (sous-méthode)."
   ]
  },
  {
   "cell_type": "markdown",
   "id": "d9776e92",
   "metadata": {},
   "source": [
    "***Remarque*** : Un détail intéressant ici... Il est possible d’écrire la fonction __generate_aretes() en dehors de la classe Graphe . Python nous permet d'ajouter des fonctions (méthodes)  à une classe après sa déclaration ( utilisation de classmethod). "
   ]
  },
  {
   "cell_type": "markdown",
   "id": "33a50168",
   "metadata": {},
   "source": [
    "Pour que notre classe soit \"autonome\" , il serait nécessaire d'implémenter une fonction/ méthode pour ajouter un sommet et une pour ajouter une arête . Voici la classe complétée :"
   ]
  },
  {
   "cell_type": "code",
   "execution_count": 9,
   "id": "24347103",
   "metadata": {},
   "outputs": [],
   "source": [
    "class Graphe:\n",
    "  def __init__(self, graph_dict = None):\n",
    "    \"\"\" Initialise un objet Graph\n",
    "        Si aucun graphe n'est donné en attribut, un dictionnaire vide est alors introduit\n",
    "    \"\"\"\n",
    "    if graph_dict == None: graph_dict = {}\n",
    "    self.__graph_dict = graph_dict\n",
    "\n",
    "  def sommets(self):\n",
    "    #retourne les sommets du graphe\n",
    "    return list(self.__graph_dict.keys())\n",
    "\n",
    "  def aretes(self):\n",
    "    # retourne les aretes du graphe\n",
    "    return self.__generate_aretes()\n",
    "\n",
    "  def ajoute_sommet(self, sommet):\n",
    "    # si le sommet sommet n'existe pas dans le graphe on le\n",
    "    # rajoute en tant que clé avec une liste valeurs vide sinon rien n'est fait.\n",
    "    if sommet not in self.__graph_dict:\n",
    "      self.__graph_dict[sommet] = []\n",
    "\n",
    "  def ajoute_arete(self, arete):\n",
    "    #Prend en compte une liste de sommets\n",
    "    # Arete est défini comme un tuple de 2 valeurs. Exemple ('A','B') est\n",
    "    # l'arete de A vers B\n",
    "\n",
    "    if len(arete) == 2:             # Dans le cas d'une arete non boucle :\n",
    "                                    #Si les deux noeuds de l'arete sont distints\n",
    "      (sommet1, sommet2) = tuple(arete)\n",
    "      if (sommet1 in self.__graph_dict):\n",
    "        self.__graph_dict[sommet1].append(sommet2)\n",
    "      else:\n",
    "        self.__graph_dict[sommet1] = [sommet2]\n",
    "    else:                               #Dans le cas d'une boucle\n",
    "      (sommet1,) = tuple(arete)\n",
    "      if (sommet1 in self.__graph_dict):\n",
    "        self.__graph_dict[sommet1].append(sommet1)\n",
    "      else:\n",
    "        self.__graph_dict[sommet1] = [sommet1]\n",
    "\n",
    "  def __generate_aretes(self):\n",
    "        ## Une méthode statique générant les arêtes du\n",
    "        ##  Les arêtes sont représentées comme des ensembles\n",
    "        ## avec un (une boucle vers le sommet) ou deux\n",
    "        ## sommets\n",
    "    aretes = []\n",
    "    for sommet in self.__graph_dict:\n",
    "        for voisin in self.__graph_dict[sommet]:\n",
    "            if (sommet, voisin) not in aretes:\n",
    "                aretes.append((sommet, voisin))\n",
    "    return aretes\n",
    "\n"
   ]
  },
  {
   "cell_type": "markdown",
   "id": "1451db39",
   "metadata": {},
   "source": [
    "---"
   ]
  },
  {
   "cell_type": "markdown",
   "id": "bda4d361",
   "metadata": {},
   "source": [
    "\n",
    "## <span style='color:Red'> Partie 2 : Exercices"
   ]
  },
  {
   "cell_type": "markdown",
   "id": "f24e48bb",
   "metadata": {},
   "source": [
    "A partir de cette définition, nous allons vous demander d'écrire certaine méthode ou fonction nous permettant de manipuler les graphes.\n",
    "\n",
    "**Pour chacun des exercices suivants, n'oubliez pas :**\n",
    "\n",
    "> Tout se qui peut aider à la compréhension d’un programme (commentaire) est le bienvenue.\n",
    "\n",
    "> Merci de laisser dans votre programme ce qui vous a permis de le tester et de le valider , même sous forme de commentaire (création des objets et test avec print par exemple)  "
   ]
  },
  {
   "cell_type": "markdown",
   "id": "c8a38d5c",
   "metadata": {},
   "source": [
    "---"
   ]
  },
  {
   "cell_type": "markdown",
   "id": "1ad3ad28",
   "metadata": {},
   "source": [
    "### Exercice 1  (Définition de la classe Graphe) \n",
    "\n",
    "\n",
    "Utiliser le code ci-dessus de la classe Graphe pour:\n",
    "\n",
    "1.   A l’aide des méthodes données, construire l'objet Graphe G de la partie 3 (Image 1)\n",
    "\n",
    "<img src=\"https://github.com/Lionel-Helin-Oza/TP2.4-Les_Graphes/blob/main/graphe_oriente.png?raw=true\" width=\"450\">\n"
   ]
  },
  {
   "cell_type": "code",
   "execution_count": 15,
   "id": "07c404fa",
   "metadata": {},
   "outputs": [],
   "source": [
    "#Votre réponse ci-dessous :\n",
    "\n",
    "class Graphe:\n",
    "  def __init__(self, graph_dict = None):\n",
    "    \"\"\" Initialise un objet Graph\n",
    "        Si aucun graphe n'est donné en attribut, un dictionnaire vide est alors introduit\n",
    "    \"\"\"\n",
    "    if graph_dict == None: graph_dict = {}\n",
    "    self.__graph_dict = graph_dict\n",
    "\n",
    "  def sommets(self):\n",
    "    #retourne les sommets du graphe\n",
    "    return list(self.__graph_dict.keys())\n",
    "\n",
    "  def aretes(self):\n",
    "    # retourne les aretes du graphe\n",
    "    return self.__generate_aretes()\n",
    "\n",
    "  def ajoute_sommet(self, sommet):\n",
    "    # si le sommet sommet n'existe pas dans le graphe on le\n",
    "    # rajoute en tant que clé avec une liste valeurs vide sinon rien n'est fait.\n",
    "    if sommet not in self.__graph_dict:\n",
    "      self.__graph_dict[sommet] = []\n",
    "\n",
    "  def ajoute_arete(self, arete):\n",
    "    #Prend en compte une liste de sommets\n",
    "    # Arete est défini comme un tuple de 2 valeurs. Exemple ('A','B') est\n",
    "    # l'arete de A vers B\n",
    "\n",
    "    if len(arete) == 2:             # Dans le cas d'une arete non boucle :\n",
    "                                    #Si les deux noeuds de l'arete sont distints\n",
    "      (sommet1, sommet2) = tuple(arete)\n",
    "      if (sommet1 in self.__graph_dict):\n",
    "        self.__graph_dict[sommet1].append(sommet2)\n",
    "      else:\n",
    "        self.__graph_dict[sommet1] = [sommet2]\n",
    "    else:                               #Dans le cas d'une boucle\n",
    "      (sommet1,) = tuple(arete)\n",
    "      if (sommet1 in self.__graph_dict):\n",
    "        self.__graph_dict[sommet1].append(sommet1)\n",
    "      else:\n",
    "        self.__graph_dict[sommet1] = [sommet1]\n",
    "\n",
    "  def __generate_aretes(self):\n",
    "        ## Une méthode statique générant les arêtes du\n",
    "        ##  Les arêtes sont représentées comme des ensembles\n",
    "        ## avec un (une boucle vers le sommet) ou deux\n",
    "        ## sommets\n",
    "    aretes = []\n",
    "    for sommet in self.__graph_dict:\n",
    "        for voisin in self.__graph_dict[sommet]:\n",
    "            if (sommet, voisin) not in aretes:\n",
    "                aretes.append((sommet, voisin))\n",
    "    return aretes\n",
    "\n",
    "\n",
    "G = Graphe()\n",
    "G.ajoute_sommet('A')\n",
    "G.ajoute_sommet('B')\n",
    "G.ajoute_sommet('C')\n",
    "G.ajoute_sommet('D')\n",
    "G.ajoute_sommet('E')\n",
    "G.ajoute_sommet('F')\n",
    "\n",
    "#Ajout arrêtes\n",
    "G.ajoute_arete(['A','B'])\n",
    "G.ajoute_arete(['B','B'])\n",
    "G.ajoute_arete(['C','A'])\n",
    "G.ajoute_arete(['B','C'])\n",
    "G.ajoute_arete(['B','D'])\n",
    "G.ajoute_arete(['F','E'])\n",
    "\n"
   ]
  },
  {
   "cell_type": "markdown",
   "id": "f4a6a257",
   "metadata": {},
   "source": [
    "2.   A l’aide des méthodes de classe, afficher ses sommets et ses arêtes. Que remarquez-vous? Proposer une solution."
   ]
  },
  {
   "cell_type": "code",
   "execution_count": 16,
   "id": "f43554b3",
   "metadata": {},
   "outputs": [
    {
     "data": {
      "text/plain": [
       "[('A', 'B'), ('B', 'B'), ('B', 'C'), ('B', 'D'), ('C', 'A'), ('F', 'E')]"
      ]
     },
     "execution_count": 16,
     "metadata": {},
     "output_type": "execute_result"
    }
   ],
   "source": [
    "#Votre réponse ci-dessous :\n",
    "#Votre réponse ci-dessous :\n",
    "\n",
    "class Graphe:\n",
    "  def __init__(self, graph_dict = None):\n",
    "    \"\"\" Initialise un objet Graph\n",
    "        Si aucun graphe n'est donné en attribut, un dictionnaire vide est alors introduit\n",
    "    \"\"\"\n",
    "    if graph_dict == None: graph_dict = {}\n",
    "    self.__graph_dict = graph_dict\n",
    "\n",
    "  def sommets(self):\n",
    "    #retourne les sommets du graphe\n",
    "    return list(self.__graph_dict.keys())\n",
    "\n",
    "  def aretes(self):\n",
    "    # retourne les aretes du graphe\n",
    "    return self.__generate_aretes()\n",
    "\n",
    "  def ajoute_sommet(self, sommet):\n",
    "    # si le sommet sommet n'existe pas dans le graphe on le\n",
    "    # rajoute en tant que clé avec une liste valeurs vide sinon rien n'est fait.\n",
    "    if sommet not in self.__graph_dict:\n",
    "      self.__graph_dict[sommet] = []\n",
    "\n",
    "  def ajoute_arete(self, arete):\n",
    "    #Prend en compte une liste de sommets\n",
    "    # Arete est défini comme un tuple de 2 valeurs. Exemple ('A','B') est\n",
    "    # l'arete de A vers B\n",
    "\n",
    "    if len(arete) == 2:             # Dans le cas d'une arete non boucle :\n",
    "                                    #Si les deux noeuds de l'arete sont distints\n",
    "      (sommet1, sommet2) = tuple(arete)\n",
    "      if (sommet1 in self.__graph_dict):\n",
    "        self.__graph_dict[sommet1].append(sommet2)\n",
    "      else:\n",
    "        self.__graph_dict[sommet1] = [sommet2]\n",
    "    else:                               #Dans le cas d'une boucle\n",
    "      (sommet1,) = tuple(arete)\n",
    "      if (sommet1 in self.__graph_dict):\n",
    "        self.__graph_dict[sommet1].append(sommet1)\n",
    "      else:\n",
    "        self.__graph_dict[sommet1] = [sommet1]\n",
    "\n",
    "  def __generate_aretes(self):\n",
    "        ## Une méthode statique générant les arêtes du\n",
    "        ##  Les arêtes sont représentées comme des ensembles\n",
    "        ## avec un (une boucle vers le sommet) ou deux\n",
    "        ## sommets\n",
    "    aretes = []\n",
    "    for sommet in self.__graph_dict:\n",
    "        for voisin in self.__graph_dict[sommet]:\n",
    "            if (sommet, voisin) not in aretes:\n",
    "                aretes.append((sommet, voisin))\n",
    "    return aretes\n",
    "\n",
    "\n",
    "G = Graphe()\n",
    "G.ajoute_sommet('A')\n",
    "G.ajoute_sommet('B')\n",
    "G.ajoute_sommet('C')\n",
    "G.ajoute_sommet('D')\n",
    "G.ajoute_sommet('E')\n",
    "G.ajoute_sommet('F')\n",
    "\n",
    "#Ajout arrêtes\n",
    "G.ajoute_arete(['A','B'])\n",
    "G.ajoute_arete(['B','B'])\n",
    "G.ajoute_arete(['C','A'])\n",
    "G.ajoute_arete(['B','C'])\n",
    "G.ajoute_arete(['B','D'])\n",
    "G.ajoute_arete(['F','E'])\n",
    "\n",
    "#Affichage\n",
    "G.sommets()\n",
    "G.aretes()\n",
    "\n"
   ]
  },
  {
   "cell_type": "markdown",
   "id": "a75ce2ee",
   "metadata": {},
   "source": [
    "3.   Ajouter une arête (\"X\",\"Y\") et ajouter une arête entre \"B\" et \"E\"."
   ]
  },
  {
   "cell_type": "code",
   "execution_count": 1,
   "id": "2a47a5ba",
   "metadata": {},
   "outputs": [
    {
     "data": {
      "text/plain": [
       "[('A', 'B'),\n",
       " ('B', 'B'),\n",
       " ('B', 'C'),\n",
       " ('B', 'D'),\n",
       " ('B', 'E'),\n",
       " ('C', 'A'),\n",
       " ('F', 'E'),\n",
       " ('X', 'Y')]"
      ]
     },
     "execution_count": 1,
     "metadata": {},
     "output_type": "execute_result"
    }
   ],
   "source": [
    "#Votre réponse ci-dessous :\n",
    "#Votre réponse ci-dessous :\n",
    "#Votre réponse ci-dessous :\n",
    "\n",
    "class Graphe:\n",
    "  def __init__(self, graph_dict = None):\n",
    "    \"\"\" Initialise un objet Graph\n",
    "        Si aucun graphe n'est donné en attribut, un dictionnaire vide est alors introduit\n",
    "    \"\"\"\n",
    "    if graph_dict == None: graph_dict = {}\n",
    "    self.__graph_dict = graph_dict\n",
    "\n",
    "  def sommets(self):\n",
    "    #retourne les sommets du graphe\n",
    "    return list(self.__graph_dict.keys())\n",
    "\n",
    "  def aretes(self):\n",
    "    # retourne les aretes du graphe\n",
    "    return self.__generate_aretes()\n",
    "\n",
    "  def ajoute_sommet(self, sommet):\n",
    "    # si le sommet sommet n'existe pas dans le graphe on le\n",
    "    # rajoute en tant que clé avec une liste valeurs vide sinon rien n'est fait.\n",
    "    if sommet not in self.__graph_dict:\n",
    "      self.__graph_dict[sommet] = []\n",
    "\n",
    "  def ajoute_arete(self, arete):\n",
    "    #Prend en compte une liste de sommets\n",
    "    # Arete est défini comme un tuple de 2 valeurs. Exemple ('A','B') est\n",
    "    # l'arete de A vers B\n",
    "\n",
    "    if len(arete) == 2:             # Dans le cas d'une arete non boucle :\n",
    "                                    #Si les deux noeuds de l'arete sont distints\n",
    "      (sommet1, sommet2) = tuple(arete)\n",
    "      if (sommet1 in self.__graph_dict):\n",
    "        self.__graph_dict[sommet1].append(sommet2)\n",
    "      else:\n",
    "        self.__graph_dict[sommet1] = [sommet2]\n",
    "    else:                               #Dans le cas d'une boucle\n",
    "      (sommet1,) = tuple(arete)\n",
    "      if (sommet1 in self.__graph_dict):\n",
    "        self.__graph_dict[sommet1].append(sommet1)\n",
    "      else:\n",
    "        self.__graph_dict[sommet1] = [sommet1]\n",
    "\n",
    "  def __generate_aretes(self):\n",
    "        ## Une méthode statique générant les arêtes du\n",
    "        ##  Les arêtes sont représentées comme des ensembles\n",
    "        ## avec un (une boucle vers le sommet) ou deux\n",
    "        ## sommets\n",
    "    aretes = []\n",
    "    for sommet in self.__graph_dict:\n",
    "        for voisin in self.__graph_dict[sommet]:\n",
    "            if (sommet, voisin) not in aretes:\n",
    "                aretes.append((sommet, voisin))\n",
    "    return aretes\n",
    "\n",
    "\n",
    "G = Graphe()\n",
    "G.ajoute_sommet('A')\n",
    "G.ajoute_sommet('B')\n",
    "G.ajoute_sommet('C')\n",
    "G.ajoute_sommet('D')\n",
    "G.ajoute_sommet('E')\n",
    "G.ajoute_sommet('F')\n",
    "\n",
    "#Ajout arrêtes\n",
    "G.ajoute_arete(['A','B'])\n",
    "G.ajoute_arete(['B','B'])\n",
    "G.ajoute_arete(['C','A'])\n",
    "G.ajoute_arete(['B','C'])\n",
    "G.ajoute_arete(['B','D'])\n",
    "G.ajoute_arete(['F','E'])\n",
    "\n",
    "#ajout arrête entre B et E et X et Y\n",
    "G.ajoute_arete(['B','E'])\n",
    "G.ajoute_arete(['X','Y'])\n",
    "\n",
    "#Affichage\n",
    "G.sommets()\n",
    "G.aretes()\n",
    "\n",
    "\n"
   ]
  },
  {
   "cell_type": "markdown",
   "id": "34f975ed",
   "metadata": {},
   "source": [
    "---"
   ]
  },
  {
   "cell_type": "markdown",
   "id": "9529444f",
   "metadata": {},
   "source": [
    "### Exercice 2 (Affichage) \n",
    "\n",
    "\n",
    "**1.\tImplémenter une classe MonGraphe permettant de construire un graphe avec des listes (sans les dictionnaires).**\n",
    "\n",
    "La classe sera définie par \n",
    "\n",
    "> un attribut sommet, tableau contenant les différents sommets\n",
    "\n",
    "#Exemple : ['A','B', 'C', 'D','E']\n",
    "\n",
    "> un attribut arete, tableau contenant les sommets en provenance de chaque sommet  sommet \n",
    "\n",
    "#Exemple : [['B', 'C', 'D'], ['A', 'C'], ['B', 'E'],[ ],[ ]]\n",
    "\n",
    "+ A partir de ‘A’, il y a une arête vers 'B', 'C', 'D'\n",
    "\n",
    "+ A partir de ‘B’, il y a une arête vers 'A', 'C'\n",
    "\n",
    "+ A partir de ‘C’, il y a une arête vers 'B', 'E'\n",
    "\n",
    "+ A partir de ‘D’ et ‘E’, il n’y a pas d’arête\n",
    "\n",
    "\n",
    "\n",
    "**2.\tEcrire une méthode de la classe MonGraphe  ajoute_sommet**\n",
    "\n",
    "**3.\tEcrire une méthode de la classe MonGraphe  ajoute_arete**\n"
   ]
  },
  {
   "cell_type": "code",
   "execution_count": 2,
   "id": "f27a2db0",
   "metadata": {},
   "outputs": [],
   "source": [
    "#Votre réponse ci-dessous :\n",
    "\n",
    "class MonGraphe:\n",
    "    def __init__(self, sommet:list, arete:list):\n",
    "        self.sommet = sommet\n",
    "        self.arete = arete\n",
    "    \n",
    "    def ajoute_sommet(self, nom_sommet:str):\n",
    "        self.sommet.append(nom_sommet)\n",
    "    \n",
    "    def ajoute_arete(self, nom_arete:list):\n",
    "        self.arete.append(nom_arete)\n",
    "\n",
    "\n",
    "#TEST\n",
    "jesaispas = MonGraphe([],[])\n",
    "jesaispas.ajoute_sommet('A')\n",
    "jesaispas.ajoute_sommet('B')\n",
    "jesaispas.ajoute_sommet('C')\n",
    "jesaispas.ajoute_arete(['A','B'])\n",
    "jesaispas.ajoute_arete(['B','C'])\n",
    "jesaispas.ajoute_arete(['A','C'])\n",
    "\n",
    "\n"
   ]
  },
  {
   "cell_type": "markdown",
   "id": "e68c6656",
   "metadata": {},
   "source": [
    "---"
   ]
  },
  {
   "cell_type": "markdown",
   "id": "833e755f",
   "metadata": {},
   "source": [
    "### Exercice 3  (Matrice d'adjacence)"
   ]
  },
  {
   "cell_type": "markdown",
   "id": "a92a575b",
   "metadata": {},
   "source": [
    "\n",
    "1.\tÉcrire une méthode affiche_matrice de votre classe MonGraphe qui permet d’afficher la matrice d'adjacence du graphe.\n",
    "On pourra utiliser les méthodes définies à l’exercice 2 :\n"
   ]
  },
  {
   "cell_type": "code",
   "execution_count": 8,
   "id": "c9d371ed",
   "metadata": {},
   "outputs": [
    {
     "name": "stdout",
     "output_type": "stream",
     "text": [
      "['A', 'B', 'C'] | [['A', 'B'], ['B', 'C'], ['A', 'C']]\n"
     ]
    },
    {
     "data": {
      "text/plain": [
       "[[0, 1, 1], [1, 0, 1], [1, 1, 0]]"
      ]
     },
     "execution_count": 8,
     "metadata": {},
     "output_type": "execute_result"
    }
   ],
   "source": [
    "# Votre réponse ci-dessous :\n",
    "\n",
    "#COPIE\n",
    "class MonGraphe:\n",
    "    def __init__(self, sommet:list, arete:list):\n",
    "        self.sommet = sommet\n",
    "        self.arete = arete\n",
    "    \n",
    "    def ajoute_sommet(self, nom_sommet:str):\n",
    "        self.sommet.append(nom_sommet)\n",
    "    \n",
    "    def ajoute_arete(self, nom_arete:list):\n",
    "        self.arete.append(nom_arete)\n",
    "\n",
    "    def affiche_matrice(self):\n",
    "        G = []\n",
    "        # parcours tous les sommets\n",
    "        for sommet in self.sommet:\n",
    "            stock = []\n",
    "            #créer une liste de sommets qui regarde si ça correspond à une liste d'arête\n",
    "            for autre_sommet in self.sommet:\n",
    "                if [sommet, autre_sommet] in self.arete or [autre_sommet, sommet] in self.arete:\n",
    "                    stock.append(1)\n",
    "                else:\n",
    "                    stock.append(0)\n",
    "            G.append(stock)\n",
    "        return G\n",
    "    \n",
    "    def __str__(self):\n",
    "        return f'{self.sommet} | {self.arete}'\n",
    "\n",
    "\n",
    "\n",
    "#TEST\n",
    "jesaispas = MonGraphe([],[])\n",
    "jesaispas.ajoute_sommet('A')\n",
    "jesaispas.ajoute_sommet('B')\n",
    "jesaispas.ajoute_sommet('C')\n",
    "jesaispas.ajoute_arete(['A','B'])\n",
    "jesaispas.ajoute_arete(['B','C'])\n",
    "jesaispas.ajoute_arete(['A','C'])\n",
    "\n",
    "print(jesaispas)\n",
    "#Affichage matrice d'adjacence\n",
    "jesaispas.affiche_matrice()\n",
    "\n",
    "\n",
    "\n"
   ]
  },
  {
   "cell_type": "markdown",
   "id": "0ff9519a",
   "metadata": {},
   "source": [
    "**2.\tConstruire avec votre classe MonGraphe un objet Graphe G’ correspondant au graphe ci -dessous:**"
   ]
  },
  {
   "cell_type": "markdown",
   "id": "f1a031b5",
   "metadata": {},
   "source": [
    "<img src=\"https://github.com/Lionel-Helin-Oza/TP2.4-Les_Graphes/blob/main/graphe_G.png?raw=true\" width=\"450\">"
   ]
  },
  {
   "cell_type": "code",
   "execution_count": 11,
   "id": "ca836921",
   "metadata": {},
   "outputs": [],
   "source": [
    "# Votre réponse ci-dessous :\n",
    "\n",
    "#COPIE\n",
    "class MonGraphe:\n",
    "    def __init__(self, sommet:list, arete:list):\n",
    "        self.sommet = sommet\n",
    "        self.arete = arete\n",
    "    \n",
    "    def ajoute_sommet(self, nom_sommet:str):\n",
    "        self.sommet.append(nom_sommet)\n",
    "    \n",
    "    def ajoute_arete(self, nom_arete:list):\n",
    "        self.arete.append(nom_arete)\n",
    "\n",
    "\n",
    "#Création du graphe\n",
    "\n",
    "G = MonGraphe(['A','B','C','D','E','F'], [['A','B'],['B','C'],['C','D'],['D','E'],['E','F']])\n",
    "#Je décide d'ajouter d'autres aretes individuellement\n",
    "G.ajoute_arete(['A','C'])\n",
    "G.ajoute_arete(['A','D'])\n",
    "G.ajoute_arete(['A','E'])\n",
    "G.ajoute_arete(['A','F'])\n",
    "G.ajoute_arete(['C','E'])\n",
    "G.ajoute_arete(['B','D'])\n",
    "G.ajoute_arete(['B','F'])\n",
    "G.ajoute_arete(['D','F'])\n",
    "G.ajoute_arete(['B','E'])\n",
    "G.ajoute_arete(['C','F'])\n"
   ]
  },
  {
   "cell_type": "markdown",
   "id": "ab2885cb",
   "metadata": {},
   "source": [
    "3.\tAfficher sa matrice d'adjacence. \n",
    "\n"
   ]
  },
  {
   "cell_type": "code",
   "execution_count": 12,
   "id": "f2491a4d",
   "metadata": {},
   "outputs": [
    {
     "data": {
      "text/plain": [
       "[[0, 1, 1, 1, 1, 1],\n",
       " [1, 0, 1, 1, 1, 1],\n",
       " [1, 1, 0, 1, 1, 1],\n",
       " [1, 1, 1, 0, 1, 1],\n",
       " [1, 1, 1, 1, 0, 1],\n",
       " [1, 1, 1, 1, 1, 0]]"
      ]
     },
     "execution_count": 12,
     "metadata": {},
     "output_type": "execute_result"
    }
   ],
   "source": [
    "# Votre réponse ci-dessous :\n",
    "\n",
    "# Votre réponse ci-dessous :\n",
    "\n",
    "#COPIE\n",
    "class MonGraphe:\n",
    "    def __init__(self, sommet:list, arete:list):\n",
    "        self.sommet = sommet\n",
    "        self.arete = arete\n",
    "    \n",
    "    def ajoute_sommet(self, nom_sommet:str):\n",
    "        self.sommet.append(nom_sommet)\n",
    "    \n",
    "    def ajoute_arete(self, nom_arete:list):\n",
    "        self.arete.append(nom_arete)\n",
    "    \n",
    "    #Ajout fonction affichage\n",
    "    def affiche_matrice(self):\n",
    "        G = []\n",
    "        # parcours tous les sommets\n",
    "        for sommet in self.sommet:\n",
    "            stock = []\n",
    "            #créer une liste de sommets qui regarde si ça correspond à une liste d'arête\n",
    "            for autre_sommet in self.sommet:\n",
    "                if [sommet, autre_sommet] in self.arete or [autre_sommet, sommet] in self.arete:\n",
    "                    stock.append(1)\n",
    "                else:\n",
    "                    stock.append(0)\n",
    "            G.append(stock)\n",
    "        return G\n",
    "\n",
    "\n",
    "#Création du graphe\n",
    "\n",
    "G = MonGraphe(['A','B','C','D','E','F'], [['A','B'],['B','C'],['C','D'],['D','E'],['E','F']])\n",
    "#Je décide d'ajouter d'autres aretes individuellement\n",
    "G.ajoute_arete(['A','C'])\n",
    "G.ajoute_arete(['A','D'])\n",
    "G.ajoute_arete(['A','E'])\n",
    "G.ajoute_arete(['A','F'])\n",
    "G.ajoute_arete(['C','E'])\n",
    "G.ajoute_arete(['B','D'])\n",
    "G.ajoute_arete(['B','F'])\n",
    "G.ajoute_arete(['D','F'])\n",
    "G.ajoute_arete(['B','E'])\n",
    "G.ajoute_arete(['C','F'])\n",
    "#FIN COPIE\n",
    "#Affichage matrice d'adjacence\n",
    "\n",
    "G.affiche_matrice()\n",
    "\n"
   ]
  },
  {
   "cell_type": "markdown",
   "id": "c28d9b71",
   "metadata": {},
   "source": [
    "4.\tÉcrire une fonction est_graphe_complet(graphe) qui retourne True si le graphe pris en paramètre est complet, False sinon.\n",
    "(Voir si besoin wikipédia pour la définition d’un graphe complet)"
   ]
  },
  {
   "cell_type": "code",
   "execution_count": 1,
   "id": "d7c3695d",
   "metadata": {},
   "outputs": [
    {
     "data": {
      "text/plain": [
       "True"
      ]
     },
     "execution_count": 1,
     "metadata": {},
     "output_type": "execute_result"
    }
   ],
   "source": [
    "# Votre réponse ci-dessous :\n",
    "\n",
    "class MonGraphe:\n",
    "    def __init__(self, sommet:list, arete:list):\n",
    "        self.sommet = sommet\n",
    "        self.arete = arete\n",
    "    \n",
    "    def ajoute_sommet(self, nom_sommet:str):\n",
    "        self.sommet.append(nom_sommet)\n",
    "    \n",
    "    def ajoute_arete(self, nom_arete:list):\n",
    "        self.arete.append(nom_arete)\n",
    "    \n",
    "    #Ajout fonction affichage\n",
    "    def affiche_matrice(self):\n",
    "        G = []\n",
    "        # parcours tous les sommets\n",
    "        for sommet in self.sommet:\n",
    "            stock = []\n",
    "            #créer une liste de sommets qui regarde si ça correspond à une liste d'arête\n",
    "            for autre_sommet in self.sommet:\n",
    "                if [sommet, autre_sommet] in self.arete or [autre_sommet, sommet] in self.arete:\n",
    "                    stock.append(1)\n",
    "                else:\n",
    "                    stock.append(0)\n",
    "            G.append(stock)\n",
    "        return G\n",
    "    \n",
    "    def est_graphe_compet(self):\n",
    "        matrice = self.affiche_matrice()\n",
    "        for i in range(len(matrice)):\n",
    "            for y in range(len(matrice[i])):\n",
    "                if matrice[i][y] == 0 and i != y:\n",
    "                    return False\n",
    "        return True\n",
    "\n",
    "\n",
    "G = MonGraphe(['A','B','C','D','E','F'], [['A','B'],['B','C'],['C','D'],['D','E'],['E','F']])\n",
    "G.ajoute_arete(['A','C'])\n",
    "G.ajoute_arete(['A','D'])\n",
    "G.ajoute_arete(['A','E'])\n",
    "G.ajoute_arete(['A','F'])\n",
    "G.ajoute_arete(['C','E'])\n",
    "G.ajoute_arete(['B','D'])\n",
    "G.ajoute_arete(['B','F'])\n",
    "G.ajoute_arete(['D','F'])\n",
    "G.ajoute_arete(['B','E'])\n",
    "G.ajoute_arete(['C','F'])\n",
    "\n",
    "G.affiche_matrice()\n",
    "G.est_graphe_compet()"
   ]
  },
  {
   "cell_type": "markdown",
   "id": "f61fd072",
   "metadata": {},
   "source": [
    "---"
   ]
  },
  {
   "cell_type": "markdown",
   "id": "7358b1ca",
   "metadata": {},
   "source": [
    "| <span style='color:Blue'> L.HELIN |  | |   | |     |<span style='color:Blue'> NSI Terminale | |   | ||<span style='color:Blue'> Lycée Ozanam (Lille) & Lycée NDPO (Orchies)|\n",
    "| --- | --- |--- |--- |--- |--- | --- | --- |--- |--- | --- | --- |"
   ]
  }
 ],
 "metadata": {
  "kernelspec": {
   "display_name": "Python 3 (ipykernel)",
   "language": "python",
   "name": "python3"
  },
  "language_info": {
   "codemirror_mode": {
    "name": "ipython",
    "version": 3
   },
   "file_extension": ".py",
   "mimetype": "text/x-python",
   "name": "python",
   "nbconvert_exporter": "python",
   "pygments_lexer": "ipython3",
   "version": "3.10.12"
  }
 },
 "nbformat": 4,
 "nbformat_minor": 5
}
